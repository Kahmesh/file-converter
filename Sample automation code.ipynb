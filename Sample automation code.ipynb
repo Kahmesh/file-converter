{
 "cells": [
  {
   "cell_type": "code",
   "execution_count": 2,
   "id": "3f4dd416-2b5f-428a-878a-82d6c2df47ba",
   "metadata": {},
   "outputs": [
    {
     "name": "stdout",
     "output_type": "stream",
     "text": [
      "Requirement already satisfied: PyPDF2 in /opt/anaconda3/lib/python3.11/site-packages (3.0.1)\n",
      "Requirement already satisfied: docx2pdf in /opt/anaconda3/lib/python3.11/site-packages (0.1.8)\n",
      "Requirement already satisfied: pandas in /opt/anaconda3/lib/python3.11/site-packages (2.1.4)\n",
      "Requirement already satisfied: matplotlib in /opt/anaconda3/lib/python3.11/site-packages (3.9.0)\n",
      "Requirement already satisfied: python-pptx in /opt/anaconda3/lib/python3.11/site-packages (0.6.23)\n",
      "Requirement already satisfied: openpyxl in /opt/anaconda3/lib/python3.11/site-packages (3.0.10)\n",
      "Requirement already satisfied: appscript>=1.1.0 in /opt/anaconda3/lib/python3.11/site-packages (from docx2pdf) (1.1.2)\n",
      "Requirement already satisfied: tqdm>=4.41.0 in /opt/anaconda3/lib/python3.11/site-packages (from docx2pdf) (4.65.0)\n",
      "Requirement already satisfied: numpy<2,>=1.23.2 in /opt/anaconda3/lib/python3.11/site-packages (from pandas) (1.26.4)\n",
      "Requirement already satisfied: python-dateutil>=2.8.2 in /opt/anaconda3/lib/python3.11/site-packages (from pandas) (2.8.2)\n",
      "Requirement already satisfied: pytz>=2020.1 in /opt/anaconda3/lib/python3.11/site-packages (from pandas) (2023.3.post1)\n",
      "Requirement already satisfied: tzdata>=2022.1 in /opt/anaconda3/lib/python3.11/site-packages (from pandas) (2023.3)\n",
      "Requirement already satisfied: contourpy>=1.0.1 in /opt/anaconda3/lib/python3.11/site-packages (from matplotlib) (1.2.0)\n",
      "Requirement already satisfied: cycler>=0.10 in /opt/anaconda3/lib/python3.11/site-packages (from matplotlib) (0.11.0)\n",
      "Requirement already satisfied: fonttools>=4.22.0 in /opt/anaconda3/lib/python3.11/site-packages (from matplotlib) (4.25.0)\n",
      "Requirement already satisfied: kiwisolver>=1.3.1 in /opt/anaconda3/lib/python3.11/site-packages (from matplotlib) (1.4.4)\n",
      "Requirement already satisfied: packaging>=20.0 in /opt/anaconda3/lib/python3.11/site-packages (from matplotlib) (23.1)\n",
      "Requirement already satisfied: pillow>=8 in /opt/anaconda3/lib/python3.11/site-packages (from matplotlib) (10.2.0)\n",
      "Requirement already satisfied: pyparsing>=2.3.1 in /opt/anaconda3/lib/python3.11/site-packages (from matplotlib) (3.0.9)\n",
      "Requirement already satisfied: lxml>=3.1.0 in /opt/anaconda3/lib/python3.11/site-packages (from python-pptx) (4.9.3)\n",
      "Requirement already satisfied: XlsxWriter>=0.5.7 in /opt/anaconda3/lib/python3.11/site-packages (from python-pptx) (3.2.0)\n",
      "Requirement already satisfied: et_xmlfile in /opt/anaconda3/lib/python3.11/site-packages (from openpyxl) (1.1.0)\n",
      "Requirement already satisfied: six>=1.5 in /opt/anaconda3/lib/python3.11/site-packages (from python-dateutil>=2.8.2->pandas) (1.16.0)\n",
      "Note: you may need to restart the kernel to use updated packages.\n"
     ]
    }
   ],
   "source": [
    "pip install PyPDF2 docx2pdf pandas matplotlib python-pptx openpyxl"
   ]
  },
  {
   "cell_type": "code",
   "execution_count": 3,
   "id": "470cb474-4a0a-4c45-838b-bc6366924923",
   "metadata": {},
   "outputs": [],
   "source": []
  },
  {
   "cell_type": "code",
   "execution_count": null,
   "id": "ba4180ed-2abf-46b8-ac80-eec73c16a5cc",
   "metadata": {},
   "outputs": [],
   "source": [
    "import os\n",
    "from PyPDF2 import PdfReader, PdfWriter\n",
    "from docx2pdf import convert as docx_to_pdf\n",
    "import pandas as pd\n",
    "import matplotlib.pyplot as plt\n",
    "import logging\n",
    "\n",
    "logging.basicConfig(level=logging.INFO)\n",
    "\n",
    "def convert_to_pdf(input_path, output_path):\n",
    "    _, ext = os.path.splitext(input_path)\n",
    "    if not os.path.exists(output_path):\n",
    "        os.makedirs(output_path)\n",
    "\n",
    "    try:\n",
    "        if ext == '.pdf':\n",
    "            output_file = os.path.join(output_path, os.path.basename(input_path))\n",
    "            with open(input_path, 'rb') as infile:\n",
    "                reader = PdfReader(infile)\n",
    "                writer = PdfWriter()\n",
    "                for page_num in range(len(reader.pages)):\n",
    "                    writer.add_page(reader.pages[page_num])\n",
    "                with open(output_file, 'wb') as outfile:\n",
    "                    writer.write(outfile)\n",
    "                    logging.info(f\"PDF file copied: {input_path} to {output_file}\")\n",
    "        elif ext == '.docx':\n",
    "            docx_to_pdf(input_path, output_path)\n",
    "            logging.info(f\"Word document converted to PDF: {input_path} to {output_path}\")\n",
    "        elif ext in ['.txt', '.md']:\n",
    "            logging.error(f\"Text/Markdown file conversion requires Pandoc, which is not installed.\")\n",
    "        elif ext == '.xlsx':\n",
    "            output_file = os.path.join(output_path, os.path.splitext(os.path.basename(input_path))[0] + '.pdf')\n",
    "            df = pd.read_excel(input_path, engine='openpyxl')  # specifying engine\n",
    "            fig, ax = plt.subplots()\n",
    "            ax.axis('tight')\n",
    "            ax.axis('off')\n",
    "            ax.table(cellText=df.values, colLabels=df.columns, cellLoc='center', loc='center')\n",
    "            fig.savefig(output_file, bbox_inches='tight')\n",
    "            logging.info(f\"Excel file converted to PDF: {input_path} to {output_file}\")\n",
    "        elif ext == '.pptx':\n",
    "            logging.error(f\"PowerPoint file conversion requires Pandoc, which is not installed.\")\n",
    "        else:\n",
    "            logging.error(f\"Unsupported file type: {ext}\")\n",
    "    except Exception as e:\n",
    "        logging.error(f\"Failed to convert {input_path}. Error: {e}\")\n",
    "\n",
    "def main():\n",
    "    input_directory = input(\"Enter the path to the directory where the files that need to be converted are located: \")\n",
    "    output_directory = input(\"Enter the path to the directory where the output files should be saved: \")\n",
    "\n",
    "    if not os.path.isdir(input_directory):\n",
    "        logging.error(f\"Input directory does not exist: {input_directory}\")\n",
    "        return\n",
    "\n",
    "    for filename in os.listdir(input_directory):\n",
    "        input_path = os.path.join(input_directory, filename)\n",
    "        if os.path.isfile(input_path):\n",
    "            convert_to_pdf(input_path, output_directory)\n",
    "\n",
    "    logging.info(f\"Files have been converted and saved to {output_directory}\")\n",
    "\n",
    "if __name__ == \"__main__\":\n",
    "    main()\n"
   ]
  },
  {
   "cell_type": "code",
   "execution_count": 6,
   "id": "63a4a9cc-9bad-4201-9447-6a22212bf81f",
   "metadata": {},
   "outputs": [
    {
     "name": "stdin",
     "output_type": "stream",
     "text": [
      "Enter the path of the file to convert:  /Volumes/One Touch/Input\n",
      "Enter the output directory:  /Volumes/One Touch/output\n"
     ]
    },
    {
     "name": "stderr",
     "output_type": "stream",
     "text": [
      "2024-06-05 12:02:43,674 - ERROR - File has no extension: /Volumes/One Touch/Input\n"
     ]
    },
    {
     "name": "stdout",
     "output_type": "stream",
     "text": [
      "File has no extension: /Volumes/One Touch/Input\n",
      "File has been converted and saved to /Volumes/One Touch/output\n"
     ]
    }
   ],
   "source": []
  },
  {
   "cell_type": "code",
   "execution_count": null,
   "id": "1380c105-96dd-43c7-aea5-a3f33fc39560",
   "metadata": {},
   "outputs": [],
   "source": []
  }
 ],
 "metadata": {
  "kernelspec": {
   "display_name": "Python 3 (ipykernel)",
   "language": "python",
   "name": "python3"
  },
  "language_info": {
   "codemirror_mode": {
    "name": "ipython",
    "version": 3
   },
   "file_extension": ".py",
   "mimetype": "text/x-python",
   "name": "python",
   "nbconvert_exporter": "python",
   "pygments_lexer": "ipython3",
   "version": "3.11.7"
  }
 },
 "nbformat": 4,
 "nbformat_minor": 5
}
